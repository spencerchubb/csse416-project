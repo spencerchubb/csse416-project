{
 "cells": [
  {
   "cell_type": "code",
   "execution_count": 1,
   "metadata": {},
   "outputs": [
    {
     "data": {
      "text/html": [
       "<div>\n",
       "<style scoped>\n",
       "    .dataframe tbody tr th:only-of-type {\n",
       "        vertical-align: middle;\n",
       "    }\n",
       "\n",
       "    .dataframe tbody tr th {\n",
       "        vertical-align: top;\n",
       "    }\n",
       "\n",
       "    .dataframe thead th {\n",
       "        text-align: right;\n",
       "    }\n",
       "</style>\n",
       "<table border=\"1\" class=\"dataframe\">\n",
       "  <thead>\n",
       "    <tr style=\"text-align: right;\">\n",
       "      <th></th>\n",
       "      <th>Timestamp</th>\n",
       "      <th>Total score</th>\n",
       "      <th>How well do you think you know Taylor Swift?</th>\n",
       "      <th>How well do you think you know Taylor Swift? [Score]</th>\n",
       "      <th>How well do you think you know Taylor Swift? [Feedback]</th>\n",
       "      <th>Which verse is written by Taylor Swift?</th>\n",
       "      <th>Which verse is written by Taylor Swift? [Score]</th>\n",
       "      <th>Which verse is written by Taylor Swift? [Feedback]</th>\n",
       "      <th>Please explain your thinking for the previous question (Optional)</th>\n",
       "      <th>Please explain your thinking for the previous question (Optional) [Score]</th>\n",
       "      <th>...</th>\n",
       "      <th>Which verse is written by Taylor Swift? [Feedback].8</th>\n",
       "      <th>Please explain your thinking for the previous question (Optional).8</th>\n",
       "      <th>Please explain your thinking for the previous question (Optional) [Score].8</th>\n",
       "      <th>Please explain your thinking for the previous question (Optional) [Feedback].8</th>\n",
       "      <th>Which verse is written by Taylor Swift?.9</th>\n",
       "      <th>Which verse is written by Taylor Swift? [Score].9</th>\n",
       "      <th>Which verse is written by Taylor Swift? [Feedback].9</th>\n",
       "      <th>Please explain your thinking for the previous question (Optional).9</th>\n",
       "      <th>Please explain your thinking for the previous question (Optional) [Score].9</th>\n",
       "      <th>Please explain your thinking for the previous question (Optional) [Feedback].9</th>\n",
       "    </tr>\n",
       "  </thead>\n",
       "  <tbody>\n",
       "    <tr>\n",
       "      <th>0</th>\n",
       "      <td>2023/11/02 10:30:02 PM EST</td>\n",
       "      <td>4.00 / 10</td>\n",
       "      <td>1</td>\n",
       "      <td>-- / 0</td>\n",
       "      <td>NaN</td>\n",
       "      <td>She might catch your stare and flatter your eg...</td>\n",
       "      <td>0.00 / 1</td>\n",
       "      <td>NaN</td>\n",
       "      <td>NaN</td>\n",
       "      <td>-- / 0</td>\n",
       "      <td>...</td>\n",
       "      <td>NaN</td>\n",
       "      <td>NaN</td>\n",
       "      <td>-- / 0</td>\n",
       "      <td>NaN</td>\n",
       "      <td>In the quiet where your laughter rings. I find...</td>\n",
       "      <td>0.00 / 1</td>\n",
       "      <td>NaN</td>\n",
       "      <td>NaN</td>\n",
       "      <td>-- / 0</td>\n",
       "      <td>NaN</td>\n",
       "    </tr>\n",
       "  </tbody>\n",
       "</table>\n",
       "<p>1 rows × 65 columns</p>\n",
       "</div>"
      ],
      "text/plain": [
       "                    Timestamp Total score  \\\n",
       "0  2023/11/02 10:30:02 PM EST   4.00 / 10   \n",
       "\n",
       "   How well do you think you know Taylor Swift?  \\\n",
       "0                                             1   \n",
       "\n",
       "  How well do you think you know Taylor Swift? [Score]  \\\n",
       "0                                             -- / 0     \n",
       "\n",
       "   How well do you think you know Taylor Swift? [Feedback]  \\\n",
       "0                                                NaN         \n",
       "\n",
       "             Which verse is written by Taylor Swift?  \\\n",
       "0  She might catch your stare and flatter your eg...   \n",
       "\n",
       "  Which verse is written by Taylor Swift? [Score]  \\\n",
       "0                                        0.00 / 1   \n",
       "\n",
       "   Which verse is written by Taylor Swift? [Feedback]  \\\n",
       "0                                                NaN    \n",
       "\n",
       "  Please explain your thinking for the previous question (Optional)  \\\n",
       "0                                                NaN                  \n",
       "\n",
       "  Please explain your thinking for the previous question (Optional) [Score]  \\\n",
       "0                                             -- / 0                          \n",
       "\n",
       "   ...  Which verse is written by Taylor Swift? [Feedback].8  \\\n",
       "0  ...                                                NaN      \n",
       "\n",
       "  Please explain your thinking for the previous question (Optional).8  \\\n",
       "0                                                NaN                    \n",
       "\n",
       "  Please explain your thinking for the previous question (Optional) [Score].8  \\\n",
       "0                                             -- / 0                            \n",
       "\n",
       "   Please explain your thinking for the previous question (Optional) [Feedback].8  \\\n",
       "0                                                NaN                                \n",
       "\n",
       "           Which verse is written by Taylor Swift?.9  \\\n",
       "0  In the quiet where your laughter rings. I find...   \n",
       "\n",
       "  Which verse is written by Taylor Swift? [Score].9  \\\n",
       "0                                          0.00 / 1   \n",
       "\n",
       "   Which verse is written by Taylor Swift? [Feedback].9  \\\n",
       "0                                                NaN      \n",
       "\n",
       "  Please explain your thinking for the previous question (Optional).9  \\\n",
       "0                                                NaN                    \n",
       "\n",
       "  Please explain your thinking for the previous question (Optional) [Score].9  \\\n",
       "0                                             -- / 0                            \n",
       "\n",
       "   Please explain your thinking for the previous question (Optional) [Feedback].9  \n",
       "0                                                NaN                               \n",
       "\n",
       "[1 rows x 65 columns]"
      ]
     },
     "execution_count": 1,
     "metadata": {},
     "output_type": "execute_result"
    }
   ],
   "source": [
    "import pandas as pd\n",
    "\n",
    "# Read in the data\n",
    "df = pd.read_csv('Taylor Swift or AI_.csv.zip', compression='zip', header=0, sep=',', quotechar='\"', encoding='utf8')\n",
    "\n",
    "df.head(1)"
   ]
  },
  {
   "cell_type": "code",
   "execution_count": 2,
   "metadata": {},
   "outputs": [
    {
     "data": {
      "text/plain": [
       "<Axes: >"
      ]
     },
     "execution_count": 2,
     "metadata": {},
     "output_type": "execute_result"
    },
    {
     "data": {
      "image/png": "[encoded data removed]",
      "text/plain": [
       "<Figure size 640x480 with 1 Axes>"
      ]
     },
     "metadata": {},
     "output_type": "display_data"
    }
   ],
   "source": [
    "# Create histogram of Total score\n",
    "df['Total score'].apply(lambda x: int(x.split('.')[0])).sort_values().astype(str).hist()"
   ]
  },
  {
   "cell_type": "code",
   "execution_count": 3,
   "metadata": {},
   "outputs": [
    {
     "data": {
      "text/plain": [
       "<Axes: >"
      ]
     },
     "execution_count": 3,
     "metadata": {},
     "output_type": "execute_result"
    },
    {
     "data": {
      "image/png": "[encoded data removed]",
      "text/plain": [
       "<Figure size 640x480 with 1 Axes>"
      ]
     },
     "metadata": {},
     "output_type": "display_data"
    }
   ],
   "source": [
    "value_counts = df['How well do you think you know Taylor Swift?'].sort_values().astype(str).value_counts()\n",
    "\n",
    "# Make sure all bins are present\n",
    "for i in range(1, 11):\n",
    "    if str(i) not in value_counts:\n",
    "        value_counts[str(i)] = 0\n",
    "\n",
    "value_counts.index = value_counts.index.astype(int)\n",
    "value_counts.sort_index().plot(kind='bar')"
   ]
  },
  {
   "cell_type": "code",
   "execution_count": 4,
   "metadata": {},
   "outputs": [
    {
     "name": "stdout",
     "output_type": "stream",
     "text": [
      "She might catch your stare and flatter your ego. But she'll never keep you down in your bed at night. All Lights Down Low, oh-oh-oh. 'Cause it's dark 'til you leave\n",
      "There's a fire inside of you. That can't help but shine through. She's never gonna see the light. No matter what you do\n",
      "You don't know how it could be. Anything you want it to. If you only knows me. We could be an invisible army, unbreakable\n",
      "There's a fire inside of you. That you keep hidden away. But I see the flickers through. In every word you don't say\n"
     ]
    }
   ],
   "source": [
    "# Load lines from questions.txt\n",
    "with open('questions.txt', 'r', encoding='utf8') as f:\n",
    "    questions = f.readlines()\n",
    "\n",
    "ten_epochs = []\n",
    "real = []\n",
    "twenty_epochs = []\n",
    "gpt4 = []\n",
    "\n",
    "for i in range(10):\n",
    "    ten_epochs.append(questions[i * 4].strip())\n",
    "    real.append(questions[i * 4 + 1].strip())\n",
    "    twenty_epochs.append(questions[i * 4 + 2].strip())\n",
    "    gpt4.append(questions[i * 4 + 3].strip())\n",
    "\n",
    "print(ten_epochs[0])\n",
    "print(real[0])\n",
    "print(twenty_epochs[0])\n",
    "print(gpt4[0])"
   ]
  },
  {
   "cell_type": "code",
   "execution_count": 5,
   "metadata": {},
   "outputs": [
    {
     "name": "stdout",
     "output_type": "stream",
     "text": [
      "ten epochs: 55\n",
      "twenty epochs: 26\n",
      "real: 151\n",
      "gpt4: 88\n"
     ]
    }
   ],
   "source": [
    "n_ten_epochs = 0\n",
    "n_twenty_epochs = 0\n",
    "n_real = 0\n",
    "n_gpt4 = 0\n",
    "\n",
    "for i in range(10):\n",
    "    key = 'Which verse is written by Taylor Swift?' + ('.' + str(i) if i > 0 else '')\n",
    "\n",
    "    n_ten_epochs += (df[key] == ten_epochs[i]).sum()\n",
    "    n_twenty_epochs += (df[key] == twenty_epochs[i]).sum()\n",
    "    n_real += (df[key] == real[i]).sum()\n",
    "    n_gpt4 += (df[key] == gpt4[i]).sum()\n",
    "\n",
    "\n",
    "print('ten epochs:', n_ten_epochs)\n",
    "print('twenty epochs:', n_twenty_epochs)\n",
    "print('real:', n_real)\n",
    "print('gpt4:', n_gpt4)"
   ]
  },
  {
   "cell_type": "code",
   "execution_count": 6,
   "metadata": {},
   "outputs": [
    {
     "data": {
      "text/plain": [
       "320"
      ]
     },
     "execution_count": 6,
     "metadata": {},
     "output_type": "execute_result"
    }
   ],
   "source": [
    "# Total should be 320\n",
    "n_ten_epochs + n_twenty_epochs + n_real + n_gpt4"
   ]
  },
  {
   "cell_type": "code",
   "execution_count": 7,
   "metadata": {},
   "outputs": [],
   "source": [
    "num_times_chosen = {}\n",
    "\n",
    "for i in range(10):\n",
    "    key = 'Which verse is written by Taylor Swift?' + ('.' + str(i) if i > 0 else '')\n",
    "\n",
    "    for verse in [ten_epochs[i], twenty_epochs[i], real[i], gpt4[i]]:\n",
    "        num_times_chosen[verse] = (df[key] == verse).sum()"
   ]
  },
  {
   "cell_type": "code",
   "execution_count": 8,
   "metadata": {},
   "outputs": [
    {
     "name": "stdout",
     "output_type": "stream",
     "text": [
      "Bustling all around. Some thin: 0\n",
      "Please tell me how we'll get a: 1\n",
      "Do you think I'm cursed, dropp: 1\n",
      "Hey, we break up but. Babies m: 1\n",
      "Memory makin' and heartbreak l: 2\n",
      "'Cause she's the kind of book : 2\n",
      "No flash bulbs, they pass me. : 2\n",
      "When Emma falls in love, she w: 3\n",
      "We played rooms full of strang: 3\n",
      "Me and my frayed nerves and ti: 3\n"
     ]
    }
   ],
   "source": [
    "least_chosen = [(k, v) for k, v in sorted(num_times_chosen.items(), key=lambda item: item[1])]\n",
    "\n",
    "for (k, v) in least_chosen[:10]:\n",
    "    print(f'{k[:30]}: {v}')"
   ]
  },
  {
   "cell_type": "code",
   "execution_count": 9,
   "metadata": {},
   "outputs": [
    {
     "name": "stdout",
     "output_type": "stream",
     "text": [
      "And she's the kind of book tha: 20\n",
      "Industry disruptors and soul d: 19\n",
      "I can't decide if it's a choic: 17\n",
      "Third floor on the West Side, : 17\n",
      "Our songs, our films, united w: 16\n",
      "What must it be like to grow u: 16\n",
      "I want you to know. I'm a mirr: 14\n",
      "There's a fire inside of you. : 12\n",
      "There's a fire inside of you. : 12\n",
      "Standing in the shadow of what: 12\n"
     ]
    }
   ],
   "source": [
    "most_chosen = [(k, v) for k, v in sorted(num_times_chosen.items(), key=lambda item: item[1], reverse=True)]\n",
    "\n",
    "for (k, v) in most_chosen[:10]:\n",
    "    print(f'{k[:30]}: {v}')"
   ]
  },
  {
   "cell_type": "code",
   "execution_count": null,
   "metadata": {},
   "outputs": [],
   "source": []
  }
 ],
 "metadata": {
  "kernelspec": {
   "display_name": "Python 3",
   "language": "python",
   "name": "python3"
  },
  "language_info": {
   "codemirror_mode": {
    "name": "ipython",
    "version": 3
   },
   "file_extension": ".py",
   "mimetype": "text/x-python",
   "name": "python",
   "nbconvert_exporter": "python",
   "pygments_lexer": "ipython3",
   "version": "3.9.0"
  }
 },
 "nbformat": 4,
 "nbformat_minor": 2
}
